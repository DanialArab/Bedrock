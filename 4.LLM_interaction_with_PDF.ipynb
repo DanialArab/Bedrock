{
 "cells": [
  {
   "cell_type": "code",
   "execution_count": 20,
   "id": "15290180",
   "metadata": {},
   "outputs": [],
   "source": [
    "import os \n",
    "import boto3\n",
    "import PyPDF2\n",
    "import json \n"
   ]
  },
  {
   "cell_type": "code",
   "execution_count": null,
   "id": "f797a5c9",
   "metadata": {},
   "outputs": [
    {
     "name": "stdout",
     "output_type": "stream",
     "text": [
      "Corporate Travel and Time Off Policy Introduction This policy establishes clear guidelines and procedures for time off and corporate travel for employees. It aims to ensure fair and consistent application throughout the organization while supporting operational needs. Annual Paid Time Off (PTO) Entitlement ● PTO Allocation: All employees receive five weeks (25 working days) of PTO per calendar year . ● Accrual of PTO: PTO accrues monthly based on the annual entitlement. ● Carryover: Unused PTO cannot be carried over to the next year . Employees are encouraged to utilize their PTO within the accrual year . Time Off Beyond PTO ● Managerial Approval: Additional time off beyond the allocated five weeks requires prior approval from the employee's direct manager . ● Request Procedure: Submit time off requests at least four weeks in advance for any period exceeding annual PTO. ● Considerations for Approval: Managers will assess the operational impact, employee performance and attendance, and reason for additional time off. ● Unapproved Time Off: Unapproved time off beyond allocated PTO may result in disciplinary action. Corporate Travel ● Travel Approval: All corporate travel requires pre-approval from the employee's manager and the travel department. ● Travel Arrangements: Use the company's designated travel agency for booking flights, accommodation, and ground transportation. ● Travel Expense Policy: Follow the company's travel expense policy regarding permissible expenses and reimbursement procedures. ● International Travel: Ensure valid travel documents and adherence to company-issued travel advisories when traveling internationally .\n"
     ]
    }
   ],
   "source": [
    "path = r\"G:\\My Drive\\personal\\My AWS Journey\\Bedrock_course_by_Jose_Portilla\\Amazon_Bedrock_UNZIP_ME\\01-Text-Generation\"\n",
    "file_path = os.path.join(path, 'Corporate_Travel_Policy.pdf')\n",
    "\n",
    "def extract_clean_text(pdf_path):\n",
    "    with open(pdf_path, 'rb') as file:\n",
    "        reader = PyPDF2.PdfReader(file)\n",
    "        text = reader.pages[0].extract_text()\n",
    "\n",
    "    if text:\n",
    "        lines = text.split('\\n')\n",
    "        cleaned = ' '.join(lines)\n",
    "        return cleaned\n",
    "    return ''\n",
    "\n",
    "text = extract_clean_text(file_path)\n",
    "print(text)\n"
   ]
  },
  {
   "cell_type": "code",
   "execution_count": 14,
   "id": "5eda9169",
   "metadata": {},
   "outputs": [
    {
     "data": {
      "text/plain": [
       "str"
      ]
     },
     "execution_count": 14,
     "metadata": {},
     "output_type": "execute_result"
    }
   ],
   "source": [
    "type(text)"
   ]
  },
  {
   "cell_type": "code",
   "execution_count": 24,
   "id": "b76637c1",
   "metadata": {},
   "outputs": [],
   "source": [
    "bedrock_runtime = boto3.client(region_name='us-west-2',\n",
    "                               service_name='bedrock-runtime')"
   ]
  },
  {
   "cell_type": "code",
   "execution_count": 43,
   "id": "0d1bf836-1621-492f-b762-c870af7aaa57",
   "metadata": {},
   "outputs": [],
   "source": [
    "prompt = f\"Based on the information provided in the policy document: \\n{text}, \\nHow many working days of PTO do employees get?\""
   ]
  },
  {
   "cell_type": "code",
   "execution_count": 44,
   "id": "c3370dca-6c0a-4f48-a272-d4da6980e2de",
   "metadata": {},
   "outputs": [
    {
     "name": "stdout",
     "output_type": "stream",
     "text": [
      "Based on the information provided in the policy document: \n",
      "Corporate Travel and Time Off Policy Introduction This policy establishes clear guidelines and procedures for time off and corporate travel for employees. It aims to ensure fair and consistent application throughout the organization while supporting operational needs. Annual Paid Time Off (PTO) Entitlement ● PTO Allocation: All employees receive five weeks (25 working days) of PTO per calendar year . ● Accrual of PTO: PTO accrues monthly based on the annual entitlement. ● Carryover: Unused PTO cannot be carried over to the next year . Employees are encouraged to utilize their PTO within the accrual year . Time Off Beyond PTO ● Managerial Approval: Additional time off beyond the allocated five weeks requires prior approval from the employee's direct manager . ● Request Procedure: Submit time off requests at least four weeks in advance for any period exceeding annual PTO. ● Considerations for Approval: Managers will assess the operational impact, employee performance and attendance, and reason for additional time off. ● Unapproved Time Off: Unapproved time off beyond allocated PTO may result in disciplinary action. Corporate Travel ● Travel Approval: All corporate travel requires pre-approval from the employee's manager and the travel department. ● Travel Arrangements: Use the company's designated travel agency for booking flights, accommodation, and ground transportation. ● Travel Expense Policy: Follow the company's travel expense policy regarding permissible expenses and reimbursement procedures. ● International Travel: Ensure valid travel documents and adherence to company-issued travel advisories when traveling internationally ., \n",
      "How many working days of PTO do employees get?\n"
     ]
    }
   ],
   "source": [
    "print(prompt)"
   ]
  },
  {
   "cell_type": "code",
   "execution_count": 25,
   "id": "d56cd225-1047-4deb-bfe2-1cb9a8cade78",
   "metadata": {},
   "outputs": [],
   "source": [
    "body = json.dumps({\"inputText\": prompt,\n",
    "                   'textGenerationConfig': {\n",
    "                       'temperature': 0,\n",
    "                        'maxTokenCount': 512\n",
    "                   }\n",
    "                   })"
   ]
  },
  {
   "cell_type": "code",
   "execution_count": 26,
   "id": "ddb90b54",
   "metadata": {},
   "outputs": [],
   "source": [
    "response = bedrock_runtime.invoke_model(body=body,\n",
    "                                        modelId='amazon.titan-text-express-v1')"
   ]
  },
  {
   "cell_type": "code",
   "execution_count": 27,
   "id": "95242058",
   "metadata": {},
   "outputs": [],
   "source": [
    "response_body = json.loads(response.get('body').read())"
   ]
  },
  {
   "cell_type": "code",
   "execution_count": 28,
   "id": "178d6a78",
   "metadata": {},
   "outputs": [
    {
     "name": "stdout",
     "output_type": "stream",
     "text": [
      "{'inputTextTokenCount': 350, 'results': [{'tokenCount': 10, 'outputText': '\\nFive weeks or 25 working days', 'completionReason': 'FINISH'}]}\n"
     ]
    }
   ],
   "source": [
    "print(response_body)"
   ]
  },
  {
   "cell_type": "code",
   "execution_count": 29,
   "id": "64663b0f",
   "metadata": {},
   "outputs": [
    {
     "name": "stdout",
     "output_type": "stream",
     "text": [
      "\n",
      "Five weeks or 25 working days\n"
     ]
    }
   ],
   "source": [
    "print(response_body['results'][0]['outputText'])"
   ]
  },
  {
   "cell_type": "markdown",
   "id": "7a75bc4c",
   "metadata": {},
   "source": [
    "## Put everything together in a single function "
   ]
  },
  {
   "cell_type": "code",
   "execution_count": 39,
   "id": "b898b31d",
   "metadata": {},
   "outputs": [],
   "source": [
    "def llm_helper (file_path, query, model_id):\n",
    "    text = extract_clean_text(file_path)\n",
    "\n",
    "    bedrock_runtime = boto3.client(region_name='us-west-2',\n",
    "                               service_name='bedrock-runtime')\n",
    "    \n",
    "    \n",
    "    prompt = f\"Based on the information provided in the policy document: {text}, {query}\"\n",
    "\n",
    "    body = json.dumps({\"inputText\": prompt,\n",
    "                   'textGenerationConfig': {\n",
    "                       'temperature': 0,\n",
    "                        'maxTokenCount': 512\n",
    "                   }\n",
    "                   })\n",
    "    \n",
    "    response = bedrock_runtime.invoke_model(body=body,\n",
    "                                        modelId=model_id)\n",
    "    \n",
    "    response_body = json.loads(response.get('body').read())\n",
    "\n",
    "    return response_body['results'][0]['outputText']"
   ]
  },
  {
   "cell_type": "code",
   "execution_count": 40,
   "id": "7b8689d4",
   "metadata": {},
   "outputs": [
    {
     "name": "stdout",
     "output_type": "stream",
     "text": [
      "\n",
      "Five weeks or 25 working days\n"
     ]
    }
   ],
   "source": [
    "output = llm_helper(file_path, 'How many working days of PTO do employees get?', 'amazon.titan-text-express-v1')\n",
    "print(output)\n"
   ]
  }
 ],
 "metadata": {
  "kernelspec": {
   "display_name": "bedrock",
   "language": "python",
   "name": "python3"
  },
  "language_info": {
   "codemirror_mode": {
    "name": "ipython",
    "version": 3
   },
   "file_extension": ".py",
   "mimetype": "text/x-python",
   "name": "python",
   "nbconvert_exporter": "python",
   "pygments_lexer": "ipython3",
   "version": "3.12.9"
  }
 },
 "nbformat": 4,
 "nbformat_minor": 5
}
