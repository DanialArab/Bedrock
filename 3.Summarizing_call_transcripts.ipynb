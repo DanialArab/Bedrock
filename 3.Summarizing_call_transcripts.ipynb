{
 "cells": [
  {
   "cell_type": "markdown",
   "id": "3f4d37d1",
   "metadata": {},
   "source": [
    "##  Code Along Project - Call Transcript"
   ]
  },
  {
   "cell_type": "code",
   "execution_count": 12,
   "id": "698a438f",
   "metadata": {},
   "outputs": [],
   "source": [
    "import os \n",
    "import boto3\n",
    "import json "
   ]
  },
  {
   "cell_type": "code",
   "execution_count": null,
   "id": "22c3410a",
   "metadata": {},
   "outputs": [],
   "source": [
    "path = r\"G:\\My Drive\\personal\\My AWS Journey\\Bedrock_course_by_Jose_Portilla\\Amazon_Bedrock_UNZIP_ME\\01-Text-Generation\"\n",
    "file_path = os.path.join(path, '03-Call-Transcript.txt')\n",
    "\n",
    "with open (file_path) as file:\n",
    "\n",
    "    transcript = file.read()"
   ]
  },
  {
   "cell_type": "code",
   "execution_count": 5,
   "id": "b0341a0b",
   "metadata": {},
   "outputs": [
    {
     "name": "stdout",
     "output_type": "stream",
     "text": [
      "Mike Salesperson: Hello, this is Mike from SecureTech Solutions. May I speak with Claire?\n",
      "\n",
      "Claire Potential Client: Hi Mike, Claire here. What can I do for you today?\n",
      "\n",
      "Mike Salesperson: Hi Claire! I'm reaching out from SecureTech Solutions. I noticed your company's impressive growth and wanted to discuss your cybersecurity needs. Are you exploring new software solutions for this area?\n",
      "\n",
      "Claire Potential Client: Yes, Mike, we are. In fact, we're currently prioritizing enhancing our cybersecurity, especially around our SQL databases. What can SecureTech Solutions provide in this area?\n",
      "\n",
      "Mike Salesperson: That's a key area, Claire. We offer a robust cybersecurity suite, with special emphasis on SQL database security. Our services include advanced encryption methods, real-time threat monitoring, and custom solutions for database security.\n",
      "\n",
      "Claire Potential Client: That's exactly what we're looking for. How does your solution ensure the security of SQL databases specifically?\n",
      "\n",
      "Mike Salesperson: Our solution is designed to address the unique challenges of SQL database security. It includes features like AI-driven threat detection, which anticipates and neutralizes potential threats, and a layered security approach to protect against various types of cyber attacks, including SQL injections.\n",
      "\n",
      "Claire Potential Client: Sounds comprehensive. What about the implementation process? We have a complex system in place already.\n",
      "\n",
      "Mike Salesperson: Our software is engineered for compatibility and ease of integration with existing systems, including complex SQL databases. We also provide a dedicated support team to assist with the integration process, ensuring a smooth and efficient transition.\n",
      "\n",
      "Claire Potential Client: That's reassuring to hear. Could we also talk about customization options? Our needs are quite specific.\n",
      "\n",
      "Mike Salesperson: Absolutely. Our solutions are highly customizable. We can tailor the security features to align with your specific requirements, ensuring that your SQL databases are not just secure, but also optimized for performance.\n",
      "\n",
      "Claire Potential Client: Great. And how does your pricing model work?\n",
      "\n",
      "Mike Salesperson: Our pricing is flexible and based on the specific services you require. I can prepare a detailed quote and proposal tailored to your needs. Would it be helpful to have a call to discuss this in more detail?\n",
      "\n",
      "Claire Potential Client: Yes, that would be helpful. Could you send me an initial proposal and then we can set up a time to discuss it over a call?\n",
      "\n",
      "Mike Salesperson: Of course, Claire. I'll prepare and send an initial proposal covering our SQL database security solutions and pricing. I'll also include some potential times for our follow-up call. Is there a particular time or day that works best for you?\n",
      "\n",
      "Claire Potential Client: I'm generally free in the afternoons. If you send me a few options, I can confirm what works best.\n",
      "\n",
      "Mike Salesperson: Perfect. I'll include a few afternoon slots in my email. Before I let you go, are there any other specific areas of cybersecurity you're interested in?\n",
      "\n",
      "Claire Potential Client: Along with database security, we're also looking into enhancing our overall data protection and intrusion detection systems.\n",
      "\n",
      "Mike Salesperson: Understood. I'll make sure to include information on our comprehensive data protection and intrusion detection capabilities in the proposal. Thank you for your time today, Claire. You'll hear from me soon with the details.\n",
      "\n",
      "Claire Potential Client: Thank you, Mike. I appreciate the thoroughness. Looking forward to your email and our upcoming discussion. Have a good day!\n",
      "\n",
      "Mike Salesperson: You too, Claire. Goodbye!\n"
     ]
    }
   ],
   "source": [
    "print(transcript)"
   ]
  },
  {
   "cell_type": "code",
   "execution_count": 7,
   "id": "dd82117f",
   "metadata": {},
   "outputs": [],
   "source": [
    "bedrock_runtime = boto3.client(region_name='us-west-2',\n",
    "                               service_name='bedrock-runtime')"
   ]
  },
  {
   "cell_type": "code",
   "execution_count": 20,
   "id": "958d0a03",
   "metadata": {},
   "outputs": [],
   "source": [
    "prompt = f\"Summarize this call transcript in only 3 sentences and create a bullet point lists of follow-up action items. Here is the transcript: \\n\\n{transcript}\""
   ]
  },
  {
   "cell_type": "code",
   "execution_count": 21,
   "id": "cfa7fe08",
   "metadata": {},
   "outputs": [
    {
     "name": "stdout",
     "output_type": "stream",
     "text": [
      "Summarize this call transcript in only 3 sentences and create a bullet point lists of follow-up action items. Here is the transcript: \n",
      "\n",
      "Mike Salesperson: Hello, this is Mike from SecureTech Solutions. May I speak with Claire?\n",
      "\n",
      "Claire Potential Client: Hi Mike, Claire here. What can I do for you today?\n",
      "\n",
      "Mike Salesperson: Hi Claire! I'm reaching out from SecureTech Solutions. I noticed your company's impressive growth and wanted to discuss your cybersecurity needs. Are you exploring new software solutions for this area?\n",
      "\n",
      "Claire Potential Client: Yes, Mike, we are. In fact, we're currently prioritizing enhancing our cybersecurity, especially around our SQL databases. What can SecureTech Solutions provide in this area?\n",
      "\n",
      "Mike Salesperson: That's a key area, Claire. We offer a robust cybersecurity suite, with special emphasis on SQL database security. Our services include advanced encryption methods, real-time threat monitoring, and custom solutions for database security.\n",
      "\n",
      "Claire Potential Client: That's exactly what we're looking for. How does your solution ensure the security of SQL databases specifically?\n",
      "\n",
      "Mike Salesperson: Our solution is designed to address the unique challenges of SQL database security. It includes features like AI-driven threat detection, which anticipates and neutralizes potential threats, and a layered security approach to protect against various types of cyber attacks, including SQL injections.\n",
      "\n",
      "Claire Potential Client: Sounds comprehensive. What about the implementation process? We have a complex system in place already.\n",
      "\n",
      "Mike Salesperson: Our software is engineered for compatibility and ease of integration with existing systems, including complex SQL databases. We also provide a dedicated support team to assist with the integration process, ensuring a smooth and efficient transition.\n",
      "\n",
      "Claire Potential Client: That's reassuring to hear. Could we also talk about customization options? Our needs are quite specific.\n",
      "\n",
      "Mike Salesperson: Absolutely. Our solutions are highly customizable. We can tailor the security features to align with your specific requirements, ensuring that your SQL databases are not just secure, but also optimized for performance.\n",
      "\n",
      "Claire Potential Client: Great. And how does your pricing model work?\n",
      "\n",
      "Mike Salesperson: Our pricing is flexible and based on the specific services you require. I can prepare a detailed quote and proposal tailored to your needs. Would it be helpful to have a call to discuss this in more detail?\n",
      "\n",
      "Claire Potential Client: Yes, that would be helpful. Could you send me an initial proposal and then we can set up a time to discuss it over a call?\n",
      "\n",
      "Mike Salesperson: Of course, Claire. I'll prepare and send an initial proposal covering our SQL database security solutions and pricing. I'll also include some potential times for our follow-up call. Is there a particular time or day that works best for you?\n",
      "\n",
      "Claire Potential Client: I'm generally free in the afternoons. If you send me a few options, I can confirm what works best.\n",
      "\n",
      "Mike Salesperson: Perfect. I'll include a few afternoon slots in my email. Before I let you go, are there any other specific areas of cybersecurity you're interested in?\n",
      "\n",
      "Claire Potential Client: Along with database security, we're also looking into enhancing our overall data protection and intrusion detection systems.\n",
      "\n",
      "Mike Salesperson: Understood. I'll make sure to include information on our comprehensive data protection and intrusion detection capabilities in the proposal. Thank you for your time today, Claire. You'll hear from me soon with the details.\n",
      "\n",
      "Claire Potential Client: Thank you, Mike. I appreciate the thoroughness. Looking forward to your email and our upcoming discussion. Have a good day!\n",
      "\n",
      "Mike Salesperson: You too, Claire. Goodbye!\n"
     ]
    }
   ],
   "source": [
    "print (prompt)"
   ]
  },
  {
   "cell_type": "code",
   "execution_count": 35,
   "id": "6f4678ce",
   "metadata": {},
   "outputs": [],
   "source": [
    "body = json.dumps({\"inputText\": prompt,\n",
    "                   'textGenerationConfig': {\n",
    "                       'temperature': 0,\n",
    "                        'maxTokenCount': 512\n",
    "                   }\n",
    "                   })"
   ]
  },
  {
   "cell_type": "code",
   "execution_count": 36,
   "id": "6aaa7d45",
   "metadata": {},
   "outputs": [
    {
     "name": "stdout",
     "output_type": "stream",
     "text": [
      "{\"inputText\": \"Summarize this call transcript in only 3 sentences and create a bullet point lists of follow-up action items. Here is the transcript: \\n\\nMike Salesperson: Hello, this is Mike from SecureTech Solutions. May I speak with Claire?\\n\\nClaire Potential Client: Hi Mike, Claire here. What can I do for you today?\\n\\nMike Salesperson: Hi Claire! I'm reaching out from SecureTech Solutions. I noticed your company's impressive growth and wanted to discuss your cybersecurity needs. Are you exploring new software solutions for this area?\\n\\nClaire Potential Client: Yes, Mike, we are. In fact, we're currently prioritizing enhancing our cybersecurity, especially around our SQL databases. What can SecureTech Solutions provide in this area?\\n\\nMike Salesperson: That's a key area, Claire. We offer a robust cybersecurity suite, with special emphasis on SQL database security. Our services include advanced encryption methods, real-time threat monitoring, and custom solutions for database security.\\n\\nClaire Potential Client: That's exactly what we're looking for. How does your solution ensure the security of SQL databases specifically?\\n\\nMike Salesperson: Our solution is designed to address the unique challenges of SQL database security. It includes features like AI-driven threat detection, which anticipates and neutralizes potential threats, and a layered security approach to protect against various types of cyber attacks, including SQL injections.\\n\\nClaire Potential Client: Sounds comprehensive. What about the implementation process? We have a complex system in place already.\\n\\nMike Salesperson: Our software is engineered for compatibility and ease of integration with existing systems, including complex SQL databases. We also provide a dedicated support team to assist with the integration process, ensuring a smooth and efficient transition.\\n\\nClaire Potential Client: That's reassuring to hear. Could we also talk about customization options? Our needs are quite specific.\\n\\nMike Salesperson: Absolutely. Our solutions are highly customizable. We can tailor the security features to align with your specific requirements, ensuring that your SQL databases are not just secure, but also optimized for performance.\\n\\nClaire Potential Client: Great. And how does your pricing model work?\\n\\nMike Salesperson: Our pricing is flexible and based on the specific services you require. I can prepare a detailed quote and proposal tailored to your needs. Would it be helpful to have a call to discuss this in more detail?\\n\\nClaire Potential Client: Yes, that would be helpful. Could you send me an initial proposal and then we can set up a time to discuss it over a call?\\n\\nMike Salesperson: Of course, Claire. I'll prepare and send an initial proposal covering our SQL database security solutions and pricing. I'll also include some potential times for our follow-up call. Is there a particular time or day that works best for you?\\n\\nClaire Potential Client: I'm generally free in the afternoons. If you send me a few options, I can confirm what works best.\\n\\nMike Salesperson: Perfect. I'll include a few afternoon slots in my email. Before I let you go, are there any other specific areas of cybersecurity you're interested in?\\n\\nClaire Potential Client: Along with database security, we're also looking into enhancing our overall data protection and intrusion detection systems.\\n\\nMike Salesperson: Understood. I'll make sure to include information on our comprehensive data protection and intrusion detection capabilities in the proposal. Thank you for your time today, Claire. You'll hear from me soon with the details.\\n\\nClaire Potential Client: Thank you, Mike. I appreciate the thoroughness. Looking forward to your email and our upcoming discussion. Have a good day!\\n\\nMike Salesperson: You too, Claire. Goodbye!\", \"textGenerationConfig\": {\"temperature\": 0, \"maxTokenCount\": 512}}\n"
     ]
    }
   ],
   "source": [
    "print(body)"
   ]
  },
  {
   "cell_type": "code",
   "execution_count": 42,
   "id": "85eca1ed",
   "metadata": {},
   "outputs": [],
   "source": [
    "response = bedrock_runtime.invoke_model(body=body,\n",
    "                                        modelId='amazon.titan-text-express-v1')"
   ]
  },
  {
   "cell_type": "code",
   "execution_count": 43,
   "id": "287db2ed",
   "metadata": {},
   "outputs": [],
   "source": [
    "response_body = json.loads(response.get('body').read())"
   ]
  },
  {
   "cell_type": "code",
   "execution_count": 44,
   "id": "5f054667",
   "metadata": {},
   "outputs": [
    {
     "data": {
      "text/plain": [
       "{'inputTextTokenCount': 760,\n",
       " 'results': [{'tokenCount': 410,\n",
       "   'outputText': \"\\nHere is the summary of the call transcript:\\n\\n• Mike Salesperson from SecureTech Solutions reaches out to Claire Potential Client to discuss their cybersecurity needs, specifically focusing on SQL database security.\\n• Claire confirms that they are prioritizing enhancing their cybersecurity, particularly around their SQL databases.\\n• Mike highlights SecureTech Solutions' robust cybersecurity suite, with a special emphasis on SQL database security.\\n• Claire expresses interest in the solution's ability to ensure the security of SQL databases.\\n• Mike explains how their solution addresses the unique challenges of SQL database security, including AI-driven threat detection and a layered security approach.\\n• Claire inquires about the implementation process and compatibility with their existing system, including complex SQL databases.\\n• Mike assures Claire that their software is engineered for compatibility and ease of integration, with a dedicated support team to assist with the transition.\\n• Claire asks about customization options, and Mike confirms that their solutions are highly customizable to align with specific requirements.\\n• Claire inquires about pricing and Mike explains that their pricing is flexible and based on the specific services required.\\n• Mike offers to prepare an initial proposal and schedule a follow-up call to discuss the proposal in more detail.\\n• Claire provides her availability for the follow-up call and requests a few afternoon slots.\\n• Mike includes information on SecureTech Solutions' comprehensive data protection and intrusion detection capabilities in the proposal.\\n• Claire expresses gratitude for the thoroughness and looks forward to receiving the email and discussing the proposal further.\\n• Mike wishes Claire a good day and ends the call.\\n\\nFollow-up action items:\\n\\n• Mike will prepare and send an initial proposal covering SecureTech Solutions' SQL database security solutions and pricing.\\n• Mike will include a few afternoon slots in the email for Claire to choose from.\\n• Mike will include information on SecureTech Solutions' comprehensive data protection and intrusion detection capabilities in the proposal.\\n• Claire will receive the email and schedule a follow-up call with Mike to discuss the proposal further.\",\n",
       "   'completionReason': 'FINISH'}]}"
      ]
     },
     "execution_count": 44,
     "metadata": {},
     "output_type": "execute_result"
    }
   ],
   "source": [
    "response_body"
   ]
  },
  {
   "cell_type": "code",
   "execution_count": 45,
   "id": "3a9ac887",
   "metadata": {},
   "outputs": [
    {
     "name": "stdout",
     "output_type": "stream",
     "text": [
      "\n",
      "Here is the summary of the call transcript:\n",
      "\n",
      "• Mike Salesperson from SecureTech Solutions reaches out to Claire Potential Client to discuss their cybersecurity needs, specifically focusing on SQL database security.\n",
      "• Claire confirms that they are prioritizing enhancing their cybersecurity, particularly around their SQL databases.\n",
      "• Mike highlights SecureTech Solutions' robust cybersecurity suite, with a special emphasis on SQL database security.\n",
      "• Claire expresses interest in the solution's ability to ensure the security of SQL databases.\n",
      "• Mike explains how their solution addresses the unique challenges of SQL database security, including AI-driven threat detection and a layered security approach.\n",
      "• Claire inquires about the implementation process and compatibility with their existing system, including complex SQL databases.\n",
      "• Mike assures Claire that their software is engineered for compatibility and ease of integration, with a dedicated support team to assist with the transition.\n",
      "• Claire asks about customization options, and Mike confirms that their solutions are highly customizable to align with specific requirements.\n",
      "• Claire inquires about pricing and Mike explains that their pricing is flexible and based on the specific services required.\n",
      "• Mike offers to prepare an initial proposal and schedule a follow-up call to discuss the proposal in more detail.\n",
      "• Claire provides her availability for the follow-up call and requests a few afternoon slots.\n",
      "• Mike includes information on SecureTech Solutions' comprehensive data protection and intrusion detection capabilities in the proposal.\n",
      "• Claire expresses gratitude for the thoroughness and looks forward to receiving the email and discussing the proposal further.\n",
      "• Mike wishes Claire a good day and ends the call.\n",
      "\n",
      "Follow-up action items:\n",
      "\n",
      "• Mike will prepare and send an initial proposal covering SecureTech Solutions' SQL database security solutions and pricing.\n",
      "• Mike will include a few afternoon slots in the email for Claire to choose from.\n",
      "• Mike will include information on SecureTech Solutions' comprehensive data protection and intrusion detection capabilities in the proposal.\n",
      "• Claire will receive the email and schedule a follow-up call with Mike to discuss the proposal further.\n"
     ]
    }
   ],
   "source": [
    "print(response_body['results'][0]['outputText'])"
   ]
  },
  {
   "cell_type": "code",
   "execution_count": null,
   "id": "592df0bd",
   "metadata": {},
   "outputs": [],
   "source": []
  },
  {
   "cell_type": "code",
   "execution_count": null,
   "id": "4a3f953d",
   "metadata": {},
   "outputs": [],
   "source": []
  }
 ],
 "metadata": {
  "kernelspec": {
   "display_name": "bedrock",
   "language": "python",
   "name": "python3"
  },
  "language_info": {
   "codemirror_mode": {
    "name": "ipython",
    "version": 3
   },
   "file_extension": ".py",
   "mimetype": "text/x-python",
   "name": "python",
   "nbconvert_exporter": "python",
   "pygments_lexer": "ipython3",
   "version": "3.12.9"
  }
 },
 "nbformat": 4,
 "nbformat_minor": 5
}
